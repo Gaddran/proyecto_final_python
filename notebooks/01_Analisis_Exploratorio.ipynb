{
 "cells": [
  {
   "cell_type": "markdown",
   "metadata": {},
   "source": [
    "\n",
    "<div>\n",
    "<img src=\"https://i.ibb.co/v3CvVz9/udd-short.png\" width=\"150\"/>\n",
    "    <br>\n",
    "    <strong>Universidad del Desarrollo</strong><br>\n",
    "    <em>Magíster en Data Science</em><br>\n",
    "    <em>Profesor: Víctor Navarro Aránguiz</em><br>\n",
    "\n",
    "</div>\n",
    "\n",
    "# Python para Data Science: Proyecto final\n",
    "*15 de Julio de 2024*\n",
    "\n",
    "**Fecha de Entrega**: 04 de Agosto de 2024\n",
    "\n",
    "**Objetivos:**\n",
    "  - Aplicar los conceptos aprendidos en clases.\n",
    "  - Realizar el análisis de un dataset de su preferencia.\n",
    "  - Familiarizarse con el manejo de versiones a través de Git.\n",
    "\n",
    "**Puntaje Total:** 24 Puntos\n",
    "\n",
    "**Nombre Estudiante(s)**: `Giuseppe Lavarello`"
   ]
  },
  {
   "cell_type": "code",
   "execution_count": null,
   "metadata": {},
   "outputs": [],
   "source": []
  }
 ],
 "metadata": {
  "kernelspec": {
   "display_name": "Python 3",
   "language": "python",
   "name": "python3"
  },
  "language_info": {
   "codemirror_mode": {
    "name": "ipython",
    "version": 3
   },
   "file_extension": ".py",
   "mimetype": "text/x-python",
   "name": "python",
   "nbconvert_exporter": "python",
   "pygments_lexer": "ipython3",
   "version": "3.12.4"
  }
 },
 "nbformat": 4,
 "nbformat_minor": 2
}
