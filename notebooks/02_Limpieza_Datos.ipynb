{
 "cells": [
  {
   "cell_type": "markdown",
   "metadata": {},
   "source": [
    "\n",
    "<div>\n",
    "<img src=\"https://i.ibb.co/v3CvVz9/udd-short.png\" width=\"150\"/>\n",
    "    <br>\n",
    "    <strong>Universidad del Desarrollo</strong><br>\n",
    "    <em>Magíster en Data Science</em><br>\n",
    "    <em>Profesor: Víctor Navarro Aránguiz</em><br>\n",
    "\n",
    "</div>\n",
    "\n",
    "# Python para Data Science: Proyecto final\n",
    "*15 de Julio de 2024*\n",
    "\n",
    "**Fecha de Entrega**: 04 de Agosto de 2024\n",
    "\n",
    "**Objetivos:**\n",
    "  - Aplicar los conceptos aprendidos en clases.\n",
    "  - Realizar el análisis de un dataset de su preferencia.\n",
    "  - Familiarizarse con el manejo de versiones a través de Git.\n",
    "\n",
    "**Puntaje Total:** 6 Puntos\n",
    "\n",
    "**Nombre Estudiante(s)**: `Giuseppe Lavarello`"
   ]
  },
  {
   "cell_type": "markdown",
   "metadata": {},
   "source": [
    "### Limpieza de Datos\n",
    "##### Importe de Paquetes"
   ]
  },
  {
   "cell_type": "code",
   "execution_count": null,
   "metadata": {},
   "outputs": [],
   "source": [
    "# Para manipulación de data \n",
    "import numpy as np\n",
    "import pandas as pd\n",
    "\n",
    "# Para visualización de data\n",
    "from matplotlib import pyplot as plt\n",
    "import seaborn as sns\n",
    "import missingno as msno #de NaNs\n"
   ]
  },
  {
   "cell_type": "markdown",
   "metadata": {},
   "source": [
    "\n",
    "##### Data Faltante"
   ]
  },
  {
   "cell_type": "code",
   "execution_count": null,
   "metadata": {},
   "outputs": [],
   "source": [
    "# Como en el Análisis no cambiamos la data la podemos cargar de la misma manera\n",
    "\n",
    "\n"
   ]
  }
 ],
 "metadata": {
  "language_info": {
   "name": "python"
  }
 },
 "nbformat": 4,
 "nbformat_minor": 2
}
