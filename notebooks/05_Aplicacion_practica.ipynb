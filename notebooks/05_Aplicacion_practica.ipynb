{
 "cells": [
  {
   "cell_type": "markdown",
   "metadata": {},
   "source": [
    "<div>\n",
    "<img src=\"https://i.ibb.co/v3CvVz9/udd-short.png\" width=\"150\"/>\n",
    "    <br>\n",
    "    <strong>Universidad del Desarrollo</strong><br>\n",
    "    <em>Magíster en Data Science</em><br>\n",
    "    <em>Profesor: Víctor Navarro Aránguiz</em><br>\n",
    "\n",
    "</div>\n",
    "\n",
    "# Python para Data Science: Proyecto final\n",
    "*15 de Julio de 2024*\n",
    "\n",
    "**Fecha de Entrega**: 04 de Agosto de 2024\n",
    "\n",
    "**Objetivos:**\n",
    "  - Aplicar los conceptos aprendidos en clases.\n",
    "  - Realizar el análisis de un dataset de su preferencia.\n",
    "  - Familiarizarse con el manejo de versiones a través de Git.\n",
    "\n",
    "**Puntaje Total:** 4 Puntos\n",
    "\n",
    "**Nombre Estudiante(s)**: `Giuseppe Lavarello`"
   ]
  },
  {
   "cell_type": "markdown",
   "metadata": {},
   "source": [
    "### Aplicaciones prácticas\n",
    "\n",
    "#### Modelo de Predicción de Calidad\n",
    "\n",
    "Desarrollar un modelo de aprendizaje automático para predecir la calidad del vino basado en sus propiedades fisicoquímicas.   \n",
    "Esto podría ser utilizado para evaluar la calidad antes de la cata humana, lo que potencialmente ahorraría tiempo y recursos.\n",
    "\n",
    "Basándonos en los análisis y preprocesamiento de datos ya realizados, los siguientes pasos son:\n",
    "\n",
    "1. Normalizar o estandarizar las características para asegurar que todas tengan igual importancia en el modelo.  \n",
    "Por ejemplo, con los datos encontrados, vimos que la mayoría de las variables tenían una correlación muy baja con la variable objetivo,  \n",
    "por lo que es probable que no sean muy buenas predictoras de esta.\n",
    "\n",
    "2. Dividir los datos en conjuntos de entrenamiento y prueba (por ejemplo, 80% para entrenamiento y 20% para prueba).\n",
    "\n",
    "3. Aplicar alguna técnica de selección de características para identificar las variables más importantes que influyen en la calidad del vino.  \n",
    "Por ejemplo, [sklearn.feature_selection](https://scikit-learn.org/stable/api/sklearn.feature_selection.html#module-sklearn.feature_selection)\n",
    "\n",
    "4. Seleccionar algoritmos de aprendizaje automático apropiados como Regresión Lineal, Árboles de Decisión, Random Forest, o Gradient Boosting.  \n",
    "(es recomendado utilizar varios y comparar los resultados)\n",
    "\n",
    "5. Evaluar el rendimiento del modelo utilizando métricas como MAE, RMSE, y R².\n",
    "\n",
    "6. Implementar un sistema de toma de muestras para alimentar el modelo y obtener nuevas predicciones."
   ]
  },
  {
   "cell_type": "markdown",
   "metadata": {},
   "source": [
    "### Desafios\n",
    "- Datos:\n",
    "    - **Calidad de Datos**: Dado que existen métodos de manejo de duplicados y outliers, existe la posibilidad de que los datos se encuentren sesgados,  \n",
    "    por lo que podría ser necesario abordar este sesgo antes de generar el modelo.\n",
    "    \n",
    "    - **Desequilibrio de Clases**: La distribucion de la calidad del vino esta desequilibrada, con muchas muestras en las categorias 5, 6,  \n",
    "    y  pocas en otras, lo que puede afectar la capacidad del modelo para predecir correctamente todas las clases.\n",
    "    \n",
    "    - **Sobreajuste**: El modelo puede ajustarse demasiado a los datos de entrenamiento y no generalizar bien a datos nuevos.\n",
    "\n",
    "- Practicos:\n",
    "    - **Integración con Sistemas Existentes**: Integrar el modelo con los sistemas de gestión y producción de la viña, puede ser más complicado de lo esperado.\n",
    "\n",
    "    - **Mantenimiento y Actualización del Modelo**: Será necesario crear un sistema para mantener el modelo monitoreado y actualizado conforme cambien las condiciones de producción.\n",
    "\n",
    "    - **Costos de Implementación**: Inversión inicial en infraestructura y capacitación."
   ]
  }
 ],
 "metadata": {
  "kernelspec": {
   "display_name": "Kernel_pfp",
   "language": "python",
   "name": "proyecto_final_python"
  },
  "language_info": {
   "codemirror_mode": {
    "name": "ipython",
    "version": 3
   },
   "file_extension": ".py",
   "mimetype": "text/x-python",
   "name": "python",
   "nbconvert_exporter": "python",
   "pygments_lexer": "ipython3",
   "version": "3.12.4"
  }
 },
 "nbformat": 4,
 "nbformat_minor": 2
}
